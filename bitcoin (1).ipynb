{
 "cells": [
  {
   "cell_type": "code",
   "execution_count": 102,
   "id": "6ba8be38",
   "metadata": {},
   "outputs": [],
   "source": [
    "import pandas as pd"
   ]
  },
  {
   "cell_type": "code",
   "execution_count": 103,
   "id": "3cce395c",
   "metadata": {},
   "outputs": [],
   "source": [
    "data=pd.read_csv(\"BitcoinHeistData.csv\")"
   ]
  },
  {
   "cell_type": "code",
   "execution_count": 60,
   "id": "53dcca0d",
   "metadata": {
    "scrolled": true
   },
   "outputs": [
    {
     "data": {
      "text/html": [
       "<div>\n",
       "<style scoped>\n",
       "    .dataframe tbody tr th:only-of-type {\n",
       "        vertical-align: middle;\n",
       "    }\n",
       "\n",
       "    .dataframe tbody tr th {\n",
       "        vertical-align: top;\n",
       "    }\n",
       "\n",
       "    .dataframe thead th {\n",
       "        text-align: right;\n",
       "    }\n",
       "</style>\n",
       "<table border=\"1\" class=\"dataframe\">\n",
       "  <thead>\n",
       "    <tr style=\"text-align: right;\">\n",
       "      <th></th>\n",
       "      <th>address</th>\n",
       "      <th>year</th>\n",
       "      <th>day</th>\n",
       "      <th>length</th>\n",
       "      <th>weight</th>\n",
       "      <th>count</th>\n",
       "      <th>looped</th>\n",
       "      <th>neighbors</th>\n",
       "      <th>income</th>\n",
       "      <th>label</th>\n",
       "    </tr>\n",
       "  </thead>\n",
       "  <tbody>\n",
       "    <tr>\n",
       "      <th>0</th>\n",
       "      <td>111K8kZAEnJg245r2cM6y9zgJGHZtJPy6</td>\n",
       "      <td>2017</td>\n",
       "      <td>11</td>\n",
       "      <td>18</td>\n",
       "      <td>0.008333</td>\n",
       "      <td>1</td>\n",
       "      <td>0</td>\n",
       "      <td>2</td>\n",
       "      <td>1.000500e+08</td>\n",
       "      <td>princetonCerber</td>\n",
       "    </tr>\n",
       "    <tr>\n",
       "      <th>1</th>\n",
       "      <td>1123pJv8jzeFQaCV4w644pzQJzVWay2zcA</td>\n",
       "      <td>2016</td>\n",
       "      <td>132</td>\n",
       "      <td>44</td>\n",
       "      <td>0.000244</td>\n",
       "      <td>1</td>\n",
       "      <td>0</td>\n",
       "      <td>1</td>\n",
       "      <td>1.000000e+08</td>\n",
       "      <td>princetonLocky</td>\n",
       "    </tr>\n",
       "    <tr>\n",
       "      <th>2</th>\n",
       "      <td>112536im7hy6wtKbpH1qYDWtTyMRAcA2p7</td>\n",
       "      <td>2016</td>\n",
       "      <td>246</td>\n",
       "      <td>0</td>\n",
       "      <td>1.000000</td>\n",
       "      <td>1</td>\n",
       "      <td>0</td>\n",
       "      <td>2</td>\n",
       "      <td>2.000000e+08</td>\n",
       "      <td>princetonCerber</td>\n",
       "    </tr>\n",
       "    <tr>\n",
       "      <th>3</th>\n",
       "      <td>1126eDRw2wqSkWosjTCre8cjjQW8sSeWH7</td>\n",
       "      <td>2016</td>\n",
       "      <td>322</td>\n",
       "      <td>72</td>\n",
       "      <td>0.003906</td>\n",
       "      <td>1</td>\n",
       "      <td>0</td>\n",
       "      <td>2</td>\n",
       "      <td>7.120000e+07</td>\n",
       "      <td>princetonCerber</td>\n",
       "    </tr>\n",
       "    <tr>\n",
       "      <th>4</th>\n",
       "      <td>1129TSjKtx65E35GiUo4AYVeyo48twbrGX</td>\n",
       "      <td>2016</td>\n",
       "      <td>238</td>\n",
       "      <td>144</td>\n",
       "      <td>0.072848</td>\n",
       "      <td>456</td>\n",
       "      <td>0</td>\n",
       "      <td>1</td>\n",
       "      <td>2.000000e+08</td>\n",
       "      <td>princetonLocky</td>\n",
       "    </tr>\n",
       "    <tr>\n",
       "      <th>...</th>\n",
       "      <td>...</td>\n",
       "      <td>...</td>\n",
       "      <td>...</td>\n",
       "      <td>...</td>\n",
       "      <td>...</td>\n",
       "      <td>...</td>\n",
       "      <td>...</td>\n",
       "      <td>...</td>\n",
       "      <td>...</td>\n",
       "      <td>...</td>\n",
       "    </tr>\n",
       "    <tr>\n",
       "      <th>2916692</th>\n",
       "      <td>12D3trgho1vJ4mGtWBRPyHdMJK96TRYSry</td>\n",
       "      <td>2018</td>\n",
       "      <td>330</td>\n",
       "      <td>0</td>\n",
       "      <td>0.111111</td>\n",
       "      <td>1</td>\n",
       "      <td>0</td>\n",
       "      <td>1</td>\n",
       "      <td>1.255809e+09</td>\n",
       "      <td>white</td>\n",
       "    </tr>\n",
       "    <tr>\n",
       "      <th>2916693</th>\n",
       "      <td>1P7PputTcVkhXBmXBvSD9MJ3UYPsiou1u2</td>\n",
       "      <td>2018</td>\n",
       "      <td>330</td>\n",
       "      <td>0</td>\n",
       "      <td>1.000000</td>\n",
       "      <td>1</td>\n",
       "      <td>0</td>\n",
       "      <td>1</td>\n",
       "      <td>4.409699e+07</td>\n",
       "      <td>white</td>\n",
       "    </tr>\n",
       "    <tr>\n",
       "      <th>2916694</th>\n",
       "      <td>1KYiKJEfdJtap9QX2v9BXJMpz2SfU4pgZw</td>\n",
       "      <td>2018</td>\n",
       "      <td>330</td>\n",
       "      <td>2</td>\n",
       "      <td>12.000000</td>\n",
       "      <td>6</td>\n",
       "      <td>6</td>\n",
       "      <td>35</td>\n",
       "      <td>2.398267e+09</td>\n",
       "      <td>white</td>\n",
       "    </tr>\n",
       "    <tr>\n",
       "      <th>2916695</th>\n",
       "      <td>15iPUJsRNZQZHmZZVwmQ63srsmughCXV4a</td>\n",
       "      <td>2018</td>\n",
       "      <td>330</td>\n",
       "      <td>0</td>\n",
       "      <td>0.500000</td>\n",
       "      <td>1</td>\n",
       "      <td>0</td>\n",
       "      <td>1</td>\n",
       "      <td>1.780427e+08</td>\n",
       "      <td>white</td>\n",
       "    </tr>\n",
       "    <tr>\n",
       "      <th>2916696</th>\n",
       "      <td>3LFFBxp15h9KSFtaw55np8eP5fv6kdK17e</td>\n",
       "      <td>2018</td>\n",
       "      <td>330</td>\n",
       "      <td>144</td>\n",
       "      <td>0.073972</td>\n",
       "      <td>6800</td>\n",
       "      <td>0</td>\n",
       "      <td>2</td>\n",
       "      <td>1.123500e+08</td>\n",
       "      <td>white</td>\n",
       "    </tr>\n",
       "  </tbody>\n",
       "</table>\n",
       "<p>2916697 rows × 10 columns</p>\n",
       "</div>"
      ],
      "text/plain": [
       "                                    address  year  day  length     weight  \\\n",
       "0         111K8kZAEnJg245r2cM6y9zgJGHZtJPy6  2017   11      18   0.008333   \n",
       "1        1123pJv8jzeFQaCV4w644pzQJzVWay2zcA  2016  132      44   0.000244   \n",
       "2        112536im7hy6wtKbpH1qYDWtTyMRAcA2p7  2016  246       0   1.000000   \n",
       "3        1126eDRw2wqSkWosjTCre8cjjQW8sSeWH7  2016  322      72   0.003906   \n",
       "4        1129TSjKtx65E35GiUo4AYVeyo48twbrGX  2016  238     144   0.072848   \n",
       "...                                     ...   ...  ...     ...        ...   \n",
       "2916692  12D3trgho1vJ4mGtWBRPyHdMJK96TRYSry  2018  330       0   0.111111   \n",
       "2916693  1P7PputTcVkhXBmXBvSD9MJ3UYPsiou1u2  2018  330       0   1.000000   \n",
       "2916694  1KYiKJEfdJtap9QX2v9BXJMpz2SfU4pgZw  2018  330       2  12.000000   \n",
       "2916695  15iPUJsRNZQZHmZZVwmQ63srsmughCXV4a  2018  330       0   0.500000   \n",
       "2916696  3LFFBxp15h9KSFtaw55np8eP5fv6kdK17e  2018  330     144   0.073972   \n",
       "\n",
       "         count  looped  neighbors        income            label  \n",
       "0            1       0          2  1.000500e+08  princetonCerber  \n",
       "1            1       0          1  1.000000e+08   princetonLocky  \n",
       "2            1       0          2  2.000000e+08  princetonCerber  \n",
       "3            1       0          2  7.120000e+07  princetonCerber  \n",
       "4          456       0          1  2.000000e+08   princetonLocky  \n",
       "...        ...     ...        ...           ...              ...  \n",
       "2916692      1       0          1  1.255809e+09            white  \n",
       "2916693      1       0          1  4.409699e+07            white  \n",
       "2916694      6       6         35  2.398267e+09            white  \n",
       "2916695      1       0          1  1.780427e+08            white  \n",
       "2916696   6800       0          2  1.123500e+08            white  \n",
       "\n",
       "[2916697 rows x 10 columns]"
      ]
     },
     "execution_count": 60,
     "metadata": {},
     "output_type": "execute_result"
    }
   ],
   "source": [
    "data"
   ]
  },
  {
   "cell_type": "code",
   "execution_count": 61,
   "id": "0476df3a",
   "metadata": {},
   "outputs": [
    {
     "data": {
      "text/plain": [
       "Index(['address', 'year', 'day', 'length', 'weight', 'count', 'looped',\n",
       "       'neighbors', 'income', 'label'],\n",
       "      dtype='object')"
      ]
     },
     "execution_count": 61,
     "metadata": {},
     "output_type": "execute_result"
    }
   ],
   "source": [
    "data.columns"
   ]
  },
  {
   "cell_type": "code",
   "execution_count": 62,
   "id": "2f9a8b11",
   "metadata": {},
   "outputs": [],
   "source": [
    "cols = data.columns"
   ]
  },
  {
   "cell_type": "code",
   "execution_count": 63,
   "id": "09d573d3",
   "metadata": {},
   "outputs": [],
   "source": [
    "data.drop(labels=data.columns[0],axis=1,inplace=True)"
   ]
  },
  {
   "cell_type": "code",
   "execution_count": 64,
   "id": "f9914377",
   "metadata": {},
   "outputs": [
    {
     "data": {
      "text/html": [
       "<div>\n",
       "<style scoped>\n",
       "    .dataframe tbody tr th:only-of-type {\n",
       "        vertical-align: middle;\n",
       "    }\n",
       "\n",
       "    .dataframe tbody tr th {\n",
       "        vertical-align: top;\n",
       "    }\n",
       "\n",
       "    .dataframe thead th {\n",
       "        text-align: right;\n",
       "    }\n",
       "</style>\n",
       "<table border=\"1\" class=\"dataframe\">\n",
       "  <thead>\n",
       "    <tr style=\"text-align: right;\">\n",
       "      <th></th>\n",
       "      <th>year</th>\n",
       "      <th>day</th>\n",
       "      <th>length</th>\n",
       "      <th>weight</th>\n",
       "      <th>count</th>\n",
       "      <th>looped</th>\n",
       "      <th>neighbors</th>\n",
       "      <th>income</th>\n",
       "      <th>label</th>\n",
       "    </tr>\n",
       "  </thead>\n",
       "  <tbody>\n",
       "    <tr>\n",
       "      <th>0</th>\n",
       "      <td>2017</td>\n",
       "      <td>11</td>\n",
       "      <td>18</td>\n",
       "      <td>0.008333</td>\n",
       "      <td>1</td>\n",
       "      <td>0</td>\n",
       "      <td>2</td>\n",
       "      <td>1.000500e+08</td>\n",
       "      <td>princetonCerber</td>\n",
       "    </tr>\n",
       "    <tr>\n",
       "      <th>1</th>\n",
       "      <td>2016</td>\n",
       "      <td>132</td>\n",
       "      <td>44</td>\n",
       "      <td>0.000244</td>\n",
       "      <td>1</td>\n",
       "      <td>0</td>\n",
       "      <td>1</td>\n",
       "      <td>1.000000e+08</td>\n",
       "      <td>princetonLocky</td>\n",
       "    </tr>\n",
       "    <tr>\n",
       "      <th>2</th>\n",
       "      <td>2016</td>\n",
       "      <td>246</td>\n",
       "      <td>0</td>\n",
       "      <td>1.000000</td>\n",
       "      <td>1</td>\n",
       "      <td>0</td>\n",
       "      <td>2</td>\n",
       "      <td>2.000000e+08</td>\n",
       "      <td>princetonCerber</td>\n",
       "    </tr>\n",
       "    <tr>\n",
       "      <th>3</th>\n",
       "      <td>2016</td>\n",
       "      <td>322</td>\n",
       "      <td>72</td>\n",
       "      <td>0.003906</td>\n",
       "      <td>1</td>\n",
       "      <td>0</td>\n",
       "      <td>2</td>\n",
       "      <td>7.120000e+07</td>\n",
       "      <td>princetonCerber</td>\n",
       "    </tr>\n",
       "    <tr>\n",
       "      <th>4</th>\n",
       "      <td>2016</td>\n",
       "      <td>238</td>\n",
       "      <td>144</td>\n",
       "      <td>0.072848</td>\n",
       "      <td>456</td>\n",
       "      <td>0</td>\n",
       "      <td>1</td>\n",
       "      <td>2.000000e+08</td>\n",
       "      <td>princetonLocky</td>\n",
       "    </tr>\n",
       "    <tr>\n",
       "      <th>...</th>\n",
       "      <td>...</td>\n",
       "      <td>...</td>\n",
       "      <td>...</td>\n",
       "      <td>...</td>\n",
       "      <td>...</td>\n",
       "      <td>...</td>\n",
       "      <td>...</td>\n",
       "      <td>...</td>\n",
       "      <td>...</td>\n",
       "    </tr>\n",
       "    <tr>\n",
       "      <th>2916692</th>\n",
       "      <td>2018</td>\n",
       "      <td>330</td>\n",
       "      <td>0</td>\n",
       "      <td>0.111111</td>\n",
       "      <td>1</td>\n",
       "      <td>0</td>\n",
       "      <td>1</td>\n",
       "      <td>1.255809e+09</td>\n",
       "      <td>white</td>\n",
       "    </tr>\n",
       "    <tr>\n",
       "      <th>2916693</th>\n",
       "      <td>2018</td>\n",
       "      <td>330</td>\n",
       "      <td>0</td>\n",
       "      <td>1.000000</td>\n",
       "      <td>1</td>\n",
       "      <td>0</td>\n",
       "      <td>1</td>\n",
       "      <td>4.409699e+07</td>\n",
       "      <td>white</td>\n",
       "    </tr>\n",
       "    <tr>\n",
       "      <th>2916694</th>\n",
       "      <td>2018</td>\n",
       "      <td>330</td>\n",
       "      <td>2</td>\n",
       "      <td>12.000000</td>\n",
       "      <td>6</td>\n",
       "      <td>6</td>\n",
       "      <td>35</td>\n",
       "      <td>2.398267e+09</td>\n",
       "      <td>white</td>\n",
       "    </tr>\n",
       "    <tr>\n",
       "      <th>2916695</th>\n",
       "      <td>2018</td>\n",
       "      <td>330</td>\n",
       "      <td>0</td>\n",
       "      <td>0.500000</td>\n",
       "      <td>1</td>\n",
       "      <td>0</td>\n",
       "      <td>1</td>\n",
       "      <td>1.780427e+08</td>\n",
       "      <td>white</td>\n",
       "    </tr>\n",
       "    <tr>\n",
       "      <th>2916696</th>\n",
       "      <td>2018</td>\n",
       "      <td>330</td>\n",
       "      <td>144</td>\n",
       "      <td>0.073972</td>\n",
       "      <td>6800</td>\n",
       "      <td>0</td>\n",
       "      <td>2</td>\n",
       "      <td>1.123500e+08</td>\n",
       "      <td>white</td>\n",
       "    </tr>\n",
       "  </tbody>\n",
       "</table>\n",
       "<p>2916697 rows × 9 columns</p>\n",
       "</div>"
      ],
      "text/plain": [
       "         year  day  length     weight  count  looped  neighbors        income  \\\n",
       "0        2017   11      18   0.008333      1       0          2  1.000500e+08   \n",
       "1        2016  132      44   0.000244      1       0          1  1.000000e+08   \n",
       "2        2016  246       0   1.000000      1       0          2  2.000000e+08   \n",
       "3        2016  322      72   0.003906      1       0          2  7.120000e+07   \n",
       "4        2016  238     144   0.072848    456       0          1  2.000000e+08   \n",
       "...       ...  ...     ...        ...    ...     ...        ...           ...   \n",
       "2916692  2018  330       0   0.111111      1       0          1  1.255809e+09   \n",
       "2916693  2018  330       0   1.000000      1       0          1  4.409699e+07   \n",
       "2916694  2018  330       2  12.000000      6       6         35  2.398267e+09   \n",
       "2916695  2018  330       0   0.500000      1       0          1  1.780427e+08   \n",
       "2916696  2018  330     144   0.073972   6800       0          2  1.123500e+08   \n",
       "\n",
       "                   label  \n",
       "0        princetonCerber  \n",
       "1         princetonLocky  \n",
       "2        princetonCerber  \n",
       "3        princetonCerber  \n",
       "4         princetonLocky  \n",
       "...                  ...  \n",
       "2916692            white  \n",
       "2916693            white  \n",
       "2916694            white  \n",
       "2916695            white  \n",
       "2916696            white  \n",
       "\n",
       "[2916697 rows x 9 columns]"
      ]
     },
     "execution_count": 64,
     "metadata": {},
     "output_type": "execute_result"
    }
   ],
   "source": [
    "data"
   ]
  },
  {
   "cell_type": "code",
   "execution_count": 65,
   "id": "5750bf64",
   "metadata": {},
   "outputs": [
    {
     "data": {
      "text/plain": [
       "array(['princetonCerber', 'princetonLocky', 'montrealCryptoLocker',\n",
       "       'montrealCryptXXX', 'paduaCryptoWall', 'montrealWannaCry',\n",
       "       'montrealDMALockerv3', 'montrealCryptoTorLocker2015',\n",
       "       'montrealSamSam', 'montrealFlyper', 'montrealNoobCrypt',\n",
       "       'montrealDMALocker', 'montrealGlobe', 'montrealEDA2',\n",
       "       'paduaKeRanger', 'montrealVenusLocker', 'montrealXTPLocker',\n",
       "       'paduaJigsaw', 'montrealGlobev3', 'montrealJigSaw',\n",
       "       'montrealXLockerv5.0', 'montrealXLocker', 'montrealRazy',\n",
       "       'montrealCryptConsole', 'montrealGlobeImposter', 'montrealSam',\n",
       "       'montrealComradeCircle', 'montrealAPT', 'white'], dtype=object)"
      ]
     },
     "execution_count": 65,
     "metadata": {},
     "output_type": "execute_result"
    }
   ],
   "source": [
    "data[\"label\"].unique()"
   ]
  },
  {
   "cell_type": "code",
   "execution_count": 66,
   "id": "6c9c512a",
   "metadata": {},
   "outputs": [],
   "source": [
    "data[\"label\"].replace(to_replace=data[\"label\"].unique(),value=list(range(0,data[\"label\"].unique().shape[0])),inplace=True)"
   ]
  },
  {
   "cell_type": "code",
   "execution_count": 67,
   "id": "aa763fa2",
   "metadata": {},
   "outputs": [
    {
     "data": {
      "text/html": [
       "<div>\n",
       "<style scoped>\n",
       "    .dataframe tbody tr th:only-of-type {\n",
       "        vertical-align: middle;\n",
       "    }\n",
       "\n",
       "    .dataframe tbody tr th {\n",
       "        vertical-align: top;\n",
       "    }\n",
       "\n",
       "    .dataframe thead th {\n",
       "        text-align: right;\n",
       "    }\n",
       "</style>\n",
       "<table border=\"1\" class=\"dataframe\">\n",
       "  <thead>\n",
       "    <tr style=\"text-align: right;\">\n",
       "      <th></th>\n",
       "      <th>year</th>\n",
       "      <th>day</th>\n",
       "      <th>length</th>\n",
       "      <th>weight</th>\n",
       "      <th>count</th>\n",
       "      <th>looped</th>\n",
       "      <th>neighbors</th>\n",
       "      <th>income</th>\n",
       "      <th>label</th>\n",
       "    </tr>\n",
       "  </thead>\n",
       "  <tbody>\n",
       "    <tr>\n",
       "      <th>0</th>\n",
       "      <td>2017</td>\n",
       "      <td>11</td>\n",
       "      <td>18</td>\n",
       "      <td>0.008333</td>\n",
       "      <td>1</td>\n",
       "      <td>0</td>\n",
       "      <td>2</td>\n",
       "      <td>1.000500e+08</td>\n",
       "      <td>0</td>\n",
       "    </tr>\n",
       "    <tr>\n",
       "      <th>1</th>\n",
       "      <td>2016</td>\n",
       "      <td>132</td>\n",
       "      <td>44</td>\n",
       "      <td>0.000244</td>\n",
       "      <td>1</td>\n",
       "      <td>0</td>\n",
       "      <td>1</td>\n",
       "      <td>1.000000e+08</td>\n",
       "      <td>1</td>\n",
       "    </tr>\n",
       "    <tr>\n",
       "      <th>2</th>\n",
       "      <td>2016</td>\n",
       "      <td>246</td>\n",
       "      <td>0</td>\n",
       "      <td>1.000000</td>\n",
       "      <td>1</td>\n",
       "      <td>0</td>\n",
       "      <td>2</td>\n",
       "      <td>2.000000e+08</td>\n",
       "      <td>0</td>\n",
       "    </tr>\n",
       "    <tr>\n",
       "      <th>3</th>\n",
       "      <td>2016</td>\n",
       "      <td>322</td>\n",
       "      <td>72</td>\n",
       "      <td>0.003906</td>\n",
       "      <td>1</td>\n",
       "      <td>0</td>\n",
       "      <td>2</td>\n",
       "      <td>7.120000e+07</td>\n",
       "      <td>0</td>\n",
       "    </tr>\n",
       "    <tr>\n",
       "      <th>4</th>\n",
       "      <td>2016</td>\n",
       "      <td>238</td>\n",
       "      <td>144</td>\n",
       "      <td>0.072848</td>\n",
       "      <td>456</td>\n",
       "      <td>0</td>\n",
       "      <td>1</td>\n",
       "      <td>2.000000e+08</td>\n",
       "      <td>1</td>\n",
       "    </tr>\n",
       "    <tr>\n",
       "      <th>...</th>\n",
       "      <td>...</td>\n",
       "      <td>...</td>\n",
       "      <td>...</td>\n",
       "      <td>...</td>\n",
       "      <td>...</td>\n",
       "      <td>...</td>\n",
       "      <td>...</td>\n",
       "      <td>...</td>\n",
       "      <td>...</td>\n",
       "    </tr>\n",
       "    <tr>\n",
       "      <th>2916692</th>\n",
       "      <td>2018</td>\n",
       "      <td>330</td>\n",
       "      <td>0</td>\n",
       "      <td>0.111111</td>\n",
       "      <td>1</td>\n",
       "      <td>0</td>\n",
       "      <td>1</td>\n",
       "      <td>1.255809e+09</td>\n",
       "      <td>28</td>\n",
       "    </tr>\n",
       "    <tr>\n",
       "      <th>2916693</th>\n",
       "      <td>2018</td>\n",
       "      <td>330</td>\n",
       "      <td>0</td>\n",
       "      <td>1.000000</td>\n",
       "      <td>1</td>\n",
       "      <td>0</td>\n",
       "      <td>1</td>\n",
       "      <td>4.409699e+07</td>\n",
       "      <td>28</td>\n",
       "    </tr>\n",
       "    <tr>\n",
       "      <th>2916694</th>\n",
       "      <td>2018</td>\n",
       "      <td>330</td>\n",
       "      <td>2</td>\n",
       "      <td>12.000000</td>\n",
       "      <td>6</td>\n",
       "      <td>6</td>\n",
       "      <td>35</td>\n",
       "      <td>2.398267e+09</td>\n",
       "      <td>28</td>\n",
       "    </tr>\n",
       "    <tr>\n",
       "      <th>2916695</th>\n",
       "      <td>2018</td>\n",
       "      <td>330</td>\n",
       "      <td>0</td>\n",
       "      <td>0.500000</td>\n",
       "      <td>1</td>\n",
       "      <td>0</td>\n",
       "      <td>1</td>\n",
       "      <td>1.780427e+08</td>\n",
       "      <td>28</td>\n",
       "    </tr>\n",
       "    <tr>\n",
       "      <th>2916696</th>\n",
       "      <td>2018</td>\n",
       "      <td>330</td>\n",
       "      <td>144</td>\n",
       "      <td>0.073972</td>\n",
       "      <td>6800</td>\n",
       "      <td>0</td>\n",
       "      <td>2</td>\n",
       "      <td>1.123500e+08</td>\n",
       "      <td>28</td>\n",
       "    </tr>\n",
       "  </tbody>\n",
       "</table>\n",
       "<p>2916697 rows × 9 columns</p>\n",
       "</div>"
      ],
      "text/plain": [
       "         year  day  length     weight  count  looped  neighbors        income  \\\n",
       "0        2017   11      18   0.008333      1       0          2  1.000500e+08   \n",
       "1        2016  132      44   0.000244      1       0          1  1.000000e+08   \n",
       "2        2016  246       0   1.000000      1       0          2  2.000000e+08   \n",
       "3        2016  322      72   0.003906      1       0          2  7.120000e+07   \n",
       "4        2016  238     144   0.072848    456       0          1  2.000000e+08   \n",
       "...       ...  ...     ...        ...    ...     ...        ...           ...   \n",
       "2916692  2018  330       0   0.111111      1       0          1  1.255809e+09   \n",
       "2916693  2018  330       0   1.000000      1       0          1  4.409699e+07   \n",
       "2916694  2018  330       2  12.000000      6       6         35  2.398267e+09   \n",
       "2916695  2018  330       0   0.500000      1       0          1  1.780427e+08   \n",
       "2916696  2018  330     144   0.073972   6800       0          2  1.123500e+08   \n",
       "\n",
       "         label  \n",
       "0            0  \n",
       "1            1  \n",
       "2            0  \n",
       "3            0  \n",
       "4            1  \n",
       "...        ...  \n",
       "2916692     28  \n",
       "2916693     28  \n",
       "2916694     28  \n",
       "2916695     28  \n",
       "2916696     28  \n",
       "\n",
       "[2916697 rows x 9 columns]"
      ]
     },
     "execution_count": 67,
     "metadata": {},
     "output_type": "execute_result"
    }
   ],
   "source": [
    "data"
   ]
  },
  {
   "cell_type": "code",
   "execution_count": 68,
   "id": "7954459b",
   "metadata": {},
   "outputs": [
    {
     "data": {
      "text/plain": [
       "year         0\n",
       "day          0\n",
       "length       0\n",
       "weight       0\n",
       "count        0\n",
       "looped       0\n",
       "neighbors    0\n",
       "income       0\n",
       "label        0\n",
       "dtype: int64"
      ]
     },
     "execution_count": 68,
     "metadata": {},
     "output_type": "execute_result"
    }
   ],
   "source": [
    "data.isnull().sum()"
   ]
  },
  {
   "cell_type": "code",
   "execution_count": 69,
   "id": "69026b59",
   "metadata": {},
   "outputs": [],
   "source": [
    "data[\"day\"] = data[\"day\"].astype(\"float64\")\n",
    "data[\"length\"] = data[\"length\"].astype(\"float64\")\n",
    "data[\"count\"] = data[\"count\"].astype(\"float64\")\n",
    "data[\"looped\"] = data[\"looped\"].astype(\"float64\")\n",
    "data[\"neighbors\"] = data[\"neighbors\"].astype(\"float64\")"
   ]
  },
  {
   "cell_type": "code",
   "execution_count": 70,
   "id": "eb602ccf",
   "metadata": {},
   "outputs": [],
   "source": [
    "data.drop(labels=\"year\",axis=1,inplace=True)"
   ]
  },
  {
   "cell_type": "code",
   "execution_count": 71,
   "id": "df7052bc",
   "metadata": {},
   "outputs": [],
   "source": [
    "import numpy as np"
   ]
  },
  {
   "cell_type": "code",
   "execution_count": 72,
   "id": "33fa899a",
   "metadata": {},
   "outputs": [],
   "source": [
    "data.iloc[:,0:7] = (data.iloc[:,0:7] - data.iloc[:,0:7].mean())/data.iloc[:,0:7].std()"
   ]
  },
  {
   "cell_type": "code",
   "execution_count": 73,
   "id": "5f5e70f1",
   "metadata": {},
   "outputs": [
    {
     "data": {
      "text/html": [
       "<div>\n",
       "<style scoped>\n",
       "    .dataframe tbody tr th:only-of-type {\n",
       "        vertical-align: middle;\n",
       "    }\n",
       "\n",
       "    .dataframe tbody tr th {\n",
       "        vertical-align: top;\n",
       "    }\n",
       "\n",
       "    .dataframe thead th {\n",
       "        text-align: right;\n",
       "    }\n",
       "</style>\n",
       "<table border=\"1\" class=\"dataframe\">\n",
       "  <thead>\n",
       "    <tr style=\"text-align: right;\">\n",
       "      <th></th>\n",
       "      <th>day</th>\n",
       "      <th>length</th>\n",
       "      <th>weight</th>\n",
       "      <th>count</th>\n",
       "      <th>looped</th>\n",
       "      <th>neighbors</th>\n",
       "      <th>income</th>\n",
       "      <th>label</th>\n",
       "    </tr>\n",
       "  </thead>\n",
       "  <tbody>\n",
       "    <tr>\n",
       "      <th>0</th>\n",
       "      <td>-1.638825</td>\n",
       "      <td>-0.457910</td>\n",
       "      <td>-0.146203</td>\n",
       "      <td>-0.426499</td>\n",
       "      <td>-0.246819</td>\n",
       "      <td>-0.011525</td>\n",
       "      <td>-0.026830</td>\n",
       "      <td>0</td>\n",
       "    </tr>\n",
       "    <tr>\n",
       "      <th>1</th>\n",
       "      <td>-0.475496</td>\n",
       "      <td>-0.017100</td>\n",
       "      <td>-0.148404</td>\n",
       "      <td>-0.426499</td>\n",
       "      <td>-0.246819</td>\n",
       "      <td>-0.067333</td>\n",
       "      <td>-0.026830</td>\n",
       "      <td>1</td>\n",
       "    </tr>\n",
       "    <tr>\n",
       "      <th>2</th>\n",
       "      <td>0.620533</td>\n",
       "      <td>-0.763086</td>\n",
       "      <td>0.123693</td>\n",
       "      <td>-0.426499</td>\n",
       "      <td>-0.246819</td>\n",
       "      <td>-0.011525</td>\n",
       "      <td>-0.026215</td>\n",
       "      <td>0</td>\n",
       "    </tr>\n",
       "    <tr>\n",
       "      <th>3</th>\n",
       "      <td>1.351219</td>\n",
       "      <td>0.457618</td>\n",
       "      <td>-0.147408</td>\n",
       "      <td>-0.426499</td>\n",
       "      <td>-0.246819</td>\n",
       "      <td>-0.011525</td>\n",
       "      <td>-0.027007</td>\n",
       "      <td>0</td>\n",
       "    </tr>\n",
       "    <tr>\n",
       "      <th>4</th>\n",
       "      <td>0.543619</td>\n",
       "      <td>1.678322</td>\n",
       "      <td>-0.128644</td>\n",
       "      <td>-0.157216</td>\n",
       "      <td>-0.246819</td>\n",
       "      <td>-0.067333</td>\n",
       "      <td>-0.026215</td>\n",
       "      <td>1</td>\n",
       "    </tr>\n",
       "    <tr>\n",
       "      <th>...</th>\n",
       "      <td>...</td>\n",
       "      <td>...</td>\n",
       "      <td>...</td>\n",
       "      <td>...</td>\n",
       "      <td>...</td>\n",
       "      <td>...</td>\n",
       "      <td>...</td>\n",
       "      <td>...</td>\n",
       "    </tr>\n",
       "    <tr>\n",
       "      <th>2916692</th>\n",
       "      <td>1.428134</td>\n",
       "      <td>-0.763086</td>\n",
       "      <td>-0.118230</td>\n",
       "      <td>-0.426499</td>\n",
       "      <td>-0.246819</td>\n",
       "      <td>-0.067333</td>\n",
       "      <td>-0.019726</td>\n",
       "      <td>28</td>\n",
       "    </tr>\n",
       "    <tr>\n",
       "      <th>2916693</th>\n",
       "      <td>1.428134</td>\n",
       "      <td>-0.763086</td>\n",
       "      <td>0.123693</td>\n",
       "      <td>-0.426499</td>\n",
       "      <td>-0.246819</td>\n",
       "      <td>-0.067333</td>\n",
       "      <td>-0.027174</td>\n",
       "      <td>28</td>\n",
       "    </tr>\n",
       "    <tr>\n",
       "      <th>2916694</th>\n",
       "      <td>1.428134</td>\n",
       "      <td>-0.729177</td>\n",
       "      <td>3.117497</td>\n",
       "      <td>-0.423540</td>\n",
       "      <td>-0.240610</td>\n",
       "      <td>1.830120</td>\n",
       "      <td>-0.012703</td>\n",
       "      <td>28</td>\n",
       "    </tr>\n",
       "    <tr>\n",
       "      <th>2916695</th>\n",
       "      <td>1.428134</td>\n",
       "      <td>-0.763086</td>\n",
       "      <td>-0.012389</td>\n",
       "      <td>-0.426499</td>\n",
       "      <td>-0.246819</td>\n",
       "      <td>-0.067333</td>\n",
       "      <td>-0.026350</td>\n",
       "      <td>28</td>\n",
       "    </tr>\n",
       "    <tr>\n",
       "      <th>2916696</th>\n",
       "      <td>1.428134</td>\n",
       "      <td>1.678322</td>\n",
       "      <td>-0.128338</td>\n",
       "      <td>3.597350</td>\n",
       "      <td>-0.246819</td>\n",
       "      <td>-0.011525</td>\n",
       "      <td>-0.026754</td>\n",
       "      <td>28</td>\n",
       "    </tr>\n",
       "  </tbody>\n",
       "</table>\n",
       "<p>2916697 rows × 8 columns</p>\n",
       "</div>"
      ],
      "text/plain": [
       "              day    length    weight     count    looped  neighbors  \\\n",
       "0       -1.638825 -0.457910 -0.146203 -0.426499 -0.246819  -0.011525   \n",
       "1       -0.475496 -0.017100 -0.148404 -0.426499 -0.246819  -0.067333   \n",
       "2        0.620533 -0.763086  0.123693 -0.426499 -0.246819  -0.011525   \n",
       "3        1.351219  0.457618 -0.147408 -0.426499 -0.246819  -0.011525   \n",
       "4        0.543619  1.678322 -0.128644 -0.157216 -0.246819  -0.067333   \n",
       "...           ...       ...       ...       ...       ...        ...   \n",
       "2916692  1.428134 -0.763086 -0.118230 -0.426499 -0.246819  -0.067333   \n",
       "2916693  1.428134 -0.763086  0.123693 -0.426499 -0.246819  -0.067333   \n",
       "2916694  1.428134 -0.729177  3.117497 -0.423540 -0.240610   1.830120   \n",
       "2916695  1.428134 -0.763086 -0.012389 -0.426499 -0.246819  -0.067333   \n",
       "2916696  1.428134  1.678322 -0.128338  3.597350 -0.246819  -0.011525   \n",
       "\n",
       "           income  label  \n",
       "0       -0.026830      0  \n",
       "1       -0.026830      1  \n",
       "2       -0.026215      0  \n",
       "3       -0.027007      0  \n",
       "4       -0.026215      1  \n",
       "...           ...    ...  \n",
       "2916692 -0.019726     28  \n",
       "2916693 -0.027174     28  \n",
       "2916694 -0.012703     28  \n",
       "2916695 -0.026350     28  \n",
       "2916696 -0.026754     28  \n",
       "\n",
       "[2916697 rows x 8 columns]"
      ]
     },
     "execution_count": 73,
     "metadata": {},
     "output_type": "execute_result"
    }
   ],
   "source": [
    "data"
   ]
  },
  {
   "cell_type": "code",
   "execution_count": 74,
   "id": "6080ae0e",
   "metadata": {},
   "outputs": [],
   "source": [
    "import seaborn as sns"
   ]
  },
  {
   "cell_type": "code",
   "execution_count": 75,
   "id": "0c7b8ea0",
   "metadata": {},
   "outputs": [
    {
     "data": {
      "text/html": [
       "<div>\n",
       "<style scoped>\n",
       "    .dataframe tbody tr th:only-of-type {\n",
       "        vertical-align: middle;\n",
       "    }\n",
       "\n",
       "    .dataframe tbody tr th {\n",
       "        vertical-align: top;\n",
       "    }\n",
       "\n",
       "    .dataframe thead th {\n",
       "        text-align: right;\n",
       "    }\n",
       "</style>\n",
       "<table border=\"1\" class=\"dataframe\">\n",
       "  <thead>\n",
       "    <tr style=\"text-align: right;\">\n",
       "      <th></th>\n",
       "      <th>day</th>\n",
       "      <th>length</th>\n",
       "      <th>weight</th>\n",
       "      <th>count</th>\n",
       "      <th>looped</th>\n",
       "      <th>neighbors</th>\n",
       "      <th>income</th>\n",
       "      <th>label</th>\n",
       "    </tr>\n",
       "  </thead>\n",
       "  <tbody>\n",
       "    <tr>\n",
       "      <th>day</th>\n",
       "      <td>1.000000</td>\n",
       "      <td>0.011919</td>\n",
       "      <td>0.000864</td>\n",
       "      <td>-0.002538</td>\n",
       "      <td>0.002566</td>\n",
       "      <td>0.000181</td>\n",
       "      <td>0.002628</td>\n",
       "      <td>0.007358</td>\n",
       "    </tr>\n",
       "    <tr>\n",
       "      <th>length</th>\n",
       "      <td>0.011919</td>\n",
       "      <td>1.000000</td>\n",
       "      <td>0.000228</td>\n",
       "      <td>0.703467</td>\n",
       "      <td>0.411609</td>\n",
       "      <td>0.031523</td>\n",
       "      <td>0.000488</td>\n",
       "      <td>0.007029</td>\n",
       "    </tr>\n",
       "    <tr>\n",
       "      <th>weight</th>\n",
       "      <td>0.000864</td>\n",
       "      <td>0.000228</td>\n",
       "      <td>1.000000</td>\n",
       "      <td>0.022313</td>\n",
       "      <td>0.061646</td>\n",
       "      <td>0.691963</td>\n",
       "      <td>0.069774</td>\n",
       "      <td>-0.001959</td>\n",
       "    </tr>\n",
       "    <tr>\n",
       "      <th>count</th>\n",
       "      <td>-0.002538</td>\n",
       "      <td>0.703467</td>\n",
       "      <td>0.022313</td>\n",
       "      <td>1.000000</td>\n",
       "      <td>0.560370</td>\n",
       "      <td>0.025441</td>\n",
       "      <td>-0.003635</td>\n",
       "      <td>0.008148</td>\n",
       "    </tr>\n",
       "    <tr>\n",
       "      <th>looped</th>\n",
       "      <td>0.002566</td>\n",
       "      <td>0.411609</td>\n",
       "      <td>0.061646</td>\n",
       "      <td>0.560370</td>\n",
       "      <td>1.000000</td>\n",
       "      <td>0.052826</td>\n",
       "      <td>0.002551</td>\n",
       "      <td>0.018026</td>\n",
       "    </tr>\n",
       "    <tr>\n",
       "      <th>neighbors</th>\n",
       "      <td>0.000181</td>\n",
       "      <td>0.031523</td>\n",
       "      <td>0.691963</td>\n",
       "      <td>0.025441</td>\n",
       "      <td>0.052826</td>\n",
       "      <td>1.000000</td>\n",
       "      <td>0.138966</td>\n",
       "      <td>0.000888</td>\n",
       "    </tr>\n",
       "    <tr>\n",
       "      <th>income</th>\n",
       "      <td>0.002628</td>\n",
       "      <td>0.000488</td>\n",
       "      <td>0.069774</td>\n",
       "      <td>-0.003635</td>\n",
       "      <td>0.002551</td>\n",
       "      <td>0.138966</td>\n",
       "      <td>1.000000</td>\n",
       "      <td>0.002752</td>\n",
       "    </tr>\n",
       "    <tr>\n",
       "      <th>label</th>\n",
       "      <td>0.007358</td>\n",
       "      <td>0.007029</td>\n",
       "      <td>-0.001959</td>\n",
       "      <td>0.008148</td>\n",
       "      <td>0.018026</td>\n",
       "      <td>0.000888</td>\n",
       "      <td>0.002752</td>\n",
       "      <td>1.000000</td>\n",
       "    </tr>\n",
       "  </tbody>\n",
       "</table>\n",
       "</div>"
      ],
      "text/plain": [
       "                day    length    weight     count    looped  neighbors  \\\n",
       "day        1.000000  0.011919  0.000864 -0.002538  0.002566   0.000181   \n",
       "length     0.011919  1.000000  0.000228  0.703467  0.411609   0.031523   \n",
       "weight     0.000864  0.000228  1.000000  0.022313  0.061646   0.691963   \n",
       "count     -0.002538  0.703467  0.022313  1.000000  0.560370   0.025441   \n",
       "looped     0.002566  0.411609  0.061646  0.560370  1.000000   0.052826   \n",
       "neighbors  0.000181  0.031523  0.691963  0.025441  0.052826   1.000000   \n",
       "income     0.002628  0.000488  0.069774 -0.003635  0.002551   0.138966   \n",
       "label      0.007358  0.007029 -0.001959  0.008148  0.018026   0.000888   \n",
       "\n",
       "             income     label  \n",
       "day        0.002628  0.007358  \n",
       "length     0.000488  0.007029  \n",
       "weight     0.069774 -0.001959  \n",
       "count     -0.003635  0.008148  \n",
       "looped     0.002551  0.018026  \n",
       "neighbors  0.138966  0.000888  \n",
       "income     1.000000  0.002752  \n",
       "label      0.002752  1.000000  "
      ]
     },
     "execution_count": 75,
     "metadata": {},
     "output_type": "execute_result"
    }
   ],
   "source": [
    "data.corr()"
   ]
  },
  {
   "cell_type": "code",
   "execution_count": 76,
   "id": "133e8648",
   "metadata": {},
   "outputs": [],
   "source": [
    "import matplotlib.pyplot as plt"
   ]
  },
  {
   "cell_type": "code",
   "execution_count": 77,
   "id": "211eeda7",
   "metadata": {},
   "outputs": [
    {
     "data": {
      "text/plain": [
       "<AxesSubplot:>"
      ]
     },
     "execution_count": 77,
     "metadata": {},
     "output_type": "execute_result"
    },
    {
     "data": {
      "image/png": "[encoded data removed]",
      "text/plain": [
       "<Figure size 864x720 with 2 Axes>"
      ]
     },
     "metadata": {
      "needs_background": "light"
     },
     "output_type": "display_data"
    }
   ],
   "source": [
    "plt.figure(figsize=(12,10))\n",
    "sns.heatmap(data.corr())"
   ]
  },
  {
   "cell_type": "code",
   "execution_count": 78,
   "id": "c173f238",
   "metadata": {},
   "outputs": [],
   "source": [
    "from sklearn.decomposition import PCA"
   ]
  },
  {
   "cell_type": "code",
   "execution_count": 79,
   "id": "9418969e",
   "metadata": {},
   "outputs": [],
   "source": [
    "pca_obj = PCA(n_components=2)"
   ]
  },
  {
   "cell_type": "code",
   "execution_count": 80,
   "id": "ba6286f2",
   "metadata": {},
   "outputs": [],
   "source": [
    "data_features = pca_obj.fit_transform(np.array(data.iloc[:,0:7]))"
   ]
  },
  {
   "cell_type": "code",
   "execution_count": 81,
   "id": "945b9f3a",
   "metadata": {},
   "outputs": [],
   "source": [
    "data_features = pd.DataFrame(data_features)"
   ]
  },
  {
   "cell_type": "code",
   "execution_count": 82,
   "id": "f147316a",
   "metadata": {},
   "outputs": [],
   "source": [
    "data = pd.concat((data_features,data['label']),axis=1)"
   ]
  },
  {
   "cell_type": "code",
   "execution_count": 83,
   "id": "b0bffe56",
   "metadata": {},
   "outputs": [
    {
     "data": {
      "text/html": [
       "<div>\n",
       "<style scoped>\n",
       "    .dataframe tbody tr th:only-of-type {\n",
       "        vertical-align: middle;\n",
       "    }\n",
       "\n",
       "    .dataframe tbody tr th {\n",
       "        vertical-align: top;\n",
       "    }\n",
       "\n",
       "    .dataframe thead th {\n",
       "        text-align: right;\n",
       "    }\n",
       "</style>\n",
       "<table border=\"1\" class=\"dataframe\">\n",
       "  <thead>\n",
       "    <tr style=\"text-align: right;\">\n",
       "      <th></th>\n",
       "      <th>0</th>\n",
       "      <th>1</th>\n",
       "      <th>label</th>\n",
       "    </tr>\n",
       "  </thead>\n",
       "  <tbody>\n",
       "    <tr>\n",
       "      <th>0</th>\n",
       "      <td>-0.679246</td>\n",
       "      <td>0.010250</td>\n",
       "      <td>0</td>\n",
       "    </tr>\n",
       "    <tr>\n",
       "      <th>1</th>\n",
       "      <td>-0.428896</td>\n",
       "      <td>-0.083727</td>\n",
       "      <td>1</td>\n",
       "    </tr>\n",
       "    <tr>\n",
       "      <th>2</th>\n",
       "      <td>-0.807166</td>\n",
       "      <td>0.230403</td>\n",
       "      <td>0</td>\n",
       "    </tr>\n",
       "    <tr>\n",
       "      <th>3</th>\n",
       "      <td>-0.140515</td>\n",
       "      <td>-0.103433</td>\n",
       "      <td>0</td>\n",
       "    </tr>\n",
       "    <tr>\n",
       "      <th>4</th>\n",
       "      <td>0.709470</td>\n",
       "      <td>-0.311573</td>\n",
       "      <td>1</td>\n",
       "    </tr>\n",
       "    <tr>\n",
       "      <th>...</th>\n",
       "      <td>...</td>\n",
       "      <td>...</td>\n",
       "      <td>...</td>\n",
       "    </tr>\n",
       "    <tr>\n",
       "      <th>2916692</th>\n",
       "      <td>-0.838484</td>\n",
       "      <td>0.029657</td>\n",
       "      <td>28</td>\n",
       "    </tr>\n",
       "    <tr>\n",
       "      <th>2916693</th>\n",
       "      <td>-0.809611</td>\n",
       "      <td>0.191949</td>\n",
       "      <td>28</td>\n",
       "    </tr>\n",
       "    <tr>\n",
       "      <th>2916694</th>\n",
       "      <td>-0.180464</td>\n",
       "      <td>3.515158</td>\n",
       "      <td>28</td>\n",
       "    </tr>\n",
       "    <tr>\n",
       "      <th>2916695</th>\n",
       "      <td>-0.825928</td>\n",
       "      <td>0.099985</td>\n",
       "      <td>28</td>\n",
       "    </tr>\n",
       "    <tr>\n",
       "      <th>2916696</th>\n",
       "      <td>3.020063</td>\n",
       "      <td>-0.731002</td>\n",
       "      <td>28</td>\n",
       "    </tr>\n",
       "  </tbody>\n",
       "</table>\n",
       "<p>2916697 rows × 3 columns</p>\n",
       "</div>"
      ],
      "text/plain": [
       "                0         1  label\n",
       "0       -0.679246  0.010250      0\n",
       "1       -0.428896 -0.083727      1\n",
       "2       -0.807166  0.230403      0\n",
       "3       -0.140515 -0.103433      0\n",
       "4        0.709470 -0.311573      1\n",
       "...           ...       ...    ...\n",
       "2916692 -0.838484  0.029657     28\n",
       "2916693 -0.809611  0.191949     28\n",
       "2916694 -0.180464  3.515158     28\n",
       "2916695 -0.825928  0.099985     28\n",
       "2916696  3.020063 -0.731002     28\n",
       "\n",
       "[2916697 rows x 3 columns]"
      ]
     },
     "execution_count": 83,
     "metadata": {},
     "output_type": "execute_result"
    }
   ],
   "source": [
    "data"
   ]
  },
  {
   "cell_type": "code",
   "execution_count": 84,
   "id": "6c0780b2",
   "metadata": {},
   "outputs": [],
   "source": [
    "training_data = data.iloc[0: int(0.8*2916697), :]"
   ]
  },
  {
   "cell_type": "code",
   "execution_count": 85,
   "id": "f61a2b61",
   "metadata": {},
   "outputs": [],
   "source": [
    "training_data = data.iloc[0: int(0.8 *len(data)),:]\n",
    "cv_data = data.iloc[int(0.8 * len(data)):,:]"
   ]
  },
  {
   "cell_type": "code",
   "execution_count": 86,
   "id": "d331ae77",
   "metadata": {},
   "outputs": [
    {
     "data": {
      "text/plain": [
       "(2333357, 3)"
      ]
     },
     "execution_count": 86,
     "metadata": {},
     "output_type": "execute_result"
    }
   ],
   "source": [
    "training_data.shape"
   ]
  },
  {
   "cell_type": "code",
   "execution_count": 87,
   "id": "8d6b6555",
   "metadata": {},
   "outputs": [
    {
     "data": {
      "text/plain": [
       "(583340, 3)"
      ]
     },
     "execution_count": 87,
     "metadata": {},
     "output_type": "execute_result"
    }
   ],
   "source": [
    "cv_data.shape"
   ]
  },
  {
   "cell_type": "code",
   "execution_count": 88,
   "id": "e6fb341b",
   "metadata": {},
   "outputs": [
    {
     "data": {
      "text/plain": [
       "0        float64\n",
       "1        float64\n",
       "label      int64\n",
       "dtype: object"
      ]
     },
     "execution_count": 88,
     "metadata": {},
     "output_type": "execute_result"
    }
   ],
   "source": [
    "training_data.dtypes"
   ]
  },
  {
   "cell_type": "code",
   "execution_count": 89,
   "id": "ae5db3ae",
   "metadata": {},
   "outputs": [],
   "source": [
    "def class_likelihood_params(class_training_data):\n",
    "    \n",
    "    return {\"mean_vector\":np.array(class_training_data.iloc[:,0:2].mean()), \"covariance_matrix\":np.array(class_training_data.iloc[:,0:2].cov())}"
   ]
  },
  {
   "cell_type": "code",
   "execution_count": 90,
   "id": "4b36fda3",
   "metadata": {},
   "outputs": [],
   "source": [
    "import numpy as np"
   ]
  },
  {
   "cell_type": "code",
   "execution_count": 91,
   "id": "d039ffbc",
   "metadata": {
    "scrolled": true
   },
   "outputs": [
    {
     "name": "stderr",
     "output_type": "stream",
     "text": [
      "C:\\ProgramData\\Anaconda3\\lib\\site-packages\\pandas\\core\\frame.py:9679: RuntimeWarning: Degrees of freedom <= 0 for slice\n",
      "  base_cov = np.cov(mat.T, ddof=ddof)\n",
      "C:\\ProgramData\\Anaconda3\\lib\\site-packages\\numpy\\lib\\function_base.py:2542: RuntimeWarning: divide by zero encountered in true_divide\n",
      "  c *= np.true_divide(1, fact)\n",
      "C:\\ProgramData\\Anaconda3\\lib\\site-packages\\numpy\\lib\\function_base.py:2542: RuntimeWarning: invalid value encountered in multiply\n",
      "  c *= np.true_divide(1, fact)\n"
     ]
    }
   ],
   "source": [
    "likelihood_params_dicts = list()\n",
    "    \n",
    "for i in range(29):\n",
    "    \n",
    "    likelihood_params_dicts.append(class_likelihood_params(training_data[training_data['label'] == i]))"
   ]
  },
  {
   "cell_type": "code",
   "execution_count": 92,
   "id": "3196d55f",
   "metadata": {},
   "outputs": [
    {
     "data": {
      "text/plain": [
       "29"
      ]
     },
     "execution_count": 92,
     "metadata": {},
     "output_type": "execute_result"
    }
   ],
   "source": [
    "len(likelihood_params_dicts)"
   ]
  },
  {
   "cell_type": "code",
   "execution_count": 93,
   "id": "038a042b",
   "metadata": {},
   "outputs": [
    {
     "data": {
      "text/plain": [
       "{'mean_vector': array([-0.15203587, -0.03479364]),\n",
       " 'covariance_matrix': array([[ 1.47696285, -0.29752367],\n",
       "        [-0.29752367,  0.06719521]])}"
      ]
     },
     "execution_count": 93,
     "metadata": {},
     "output_type": "execute_result"
    }
   ],
   "source": [
    "likelihood_params_dicts[0]"
   ]
  },
  {
   "cell_type": "code",
   "execution_count": 94,
   "id": "33c72a4d",
   "metadata": {},
   "outputs": [
    {
     "data": {
      "text/plain": [
       "0.010724494906321729"
      ]
     },
     "execution_count": 94,
     "metadata": {},
     "output_type": "execute_result"
    }
   ],
   "source": [
    "np.linalg.det(likelihood_params_dicts[0][\"covariance_matrix\"])"
   ]
  },
  {
   "cell_type": "code",
   "execution_count": 95,
   "id": "addcb882",
   "metadata": {},
   "outputs": [],
   "source": [
    "import scipy.stats as s"
   ]
  },
  {
   "cell_type": "code",
   "execution_count": 96,
   "id": "ce81d226",
   "metadata": {},
   "outputs": [],
   "source": [
    "def class_conditioned_likelihood(params_dict, cv_data):\n",
    "    \n",
    "    return s.multivariate_normal.pdf(cv_data,params_dict[\"mean_vector\"],params_dict[\"covariance_matrix\"])"
   ]
  },
  {
   "cell_type": "code",
   "execution_count": 97,
   "id": "275effee",
   "metadata": {},
   "outputs": [],
   "source": [
    "priors = list()\n",
    "    \n",
    "for i in range (29) :\n",
    "    \n",
    "    priors.append(len(training_data[training_data['label'] == i])/len(training_data))"
   ]
  },
  {
   "cell_type": "code",
   "execution_count": 98,
   "id": "e770b411",
   "metadata": {},
   "outputs": [
    {
     "data": {
      "text/plain": [
       "[0.003952674194304601,\n",
       " 0.0028392569161084223,\n",
       " 0.003992102365818861,\n",
       " 0.0010367037705760413,\n",
       " 0.005309946141974845,\n",
       " 1.1999878286948804e-05,\n",
       " 0.00015171274691356702,\n",
       " 2.3571189492220863e-05,\n",
       " 2.6571159063958067e-05,\n",
       " 3.857103735090687e-06,\n",
       " 0.00020699790044986687,\n",
       " 0.00010757033750086249,\n",
       " 1.3714146613655776e-05,\n",
       " 2.571402490060458e-06,\n",
       " 4.28567081676743e-06,\n",
       " 2.999969571737201e-06,\n",
       " 3.428536653413944e-06,\n",
       " 8.57134163353486e-07,\n",
       " 1.4571280777009261e-05,\n",
       " 1.714268326706972e-06,\n",
       " 2.999969571737201e-06,\n",
       " 4.28567081676743e-07,\n",
       " 5.571372061797659e-06,\n",
       " 2.999969571737201e-06,\n",
       " 2.3571189492220863e-05,\n",
       " 4.28567081676743e-07,\n",
       " 4.28567081676743e-07,\n",
       " 4.714237898444173e-06,\n",
       " 0.982251751446521]"
      ]
     },
     "execution_count": 98,
     "metadata": {},
     "output_type": "execute_result"
    }
   ],
   "source": [
    "priors"
   ]
  },
  {
   "cell_type": "code",
   "execution_count": 99,
   "id": "dead3cd7",
   "metadata": {},
   "outputs": [
    {
     "data": {
      "text/html": [
       "<div>\n",
       "<style scoped>\n",
       "    .dataframe tbody tr th:only-of-type {\n",
       "        vertical-align: middle;\n",
       "    }\n",
       "\n",
       "    .dataframe tbody tr th {\n",
       "        vertical-align: top;\n",
       "    }\n",
       "\n",
       "    .dataframe thead th {\n",
       "        text-align: right;\n",
       "    }\n",
       "</style>\n",
       "<table border=\"1\" class=\"dataframe\">\n",
       "  <thead>\n",
       "    <tr style=\"text-align: right;\">\n",
       "      <th></th>\n",
       "      <th>0</th>\n",
       "      <th>1</th>\n",
       "      <th>label</th>\n",
       "    </tr>\n",
       "  </thead>\n",
       "  <tbody>\n",
       "    <tr>\n",
       "      <th>2916692</th>\n",
       "      <td>-0.838484</td>\n",
       "      <td>0.029657</td>\n",
       "      <td>28</td>\n",
       "    </tr>\n",
       "    <tr>\n",
       "      <th>2916693</th>\n",
       "      <td>-0.809611</td>\n",
       "      <td>0.191949</td>\n",
       "      <td>28</td>\n",
       "    </tr>\n",
       "    <tr>\n",
       "      <th>2916694</th>\n",
       "      <td>-0.180464</td>\n",
       "      <td>3.515158</td>\n",
       "      <td>28</td>\n",
       "    </tr>\n",
       "    <tr>\n",
       "      <th>2916695</th>\n",
       "      <td>-0.825928</td>\n",
       "      <td>0.099985</td>\n",
       "      <td>28</td>\n",
       "    </tr>\n",
       "    <tr>\n",
       "      <th>2916696</th>\n",
       "      <td>3.020063</td>\n",
       "      <td>-0.731002</td>\n",
       "      <td>28</td>\n",
       "    </tr>\n",
       "  </tbody>\n",
       "</table>\n",
       "</div>"
      ],
      "text/plain": [
       "                0         1  label\n",
       "2916692 -0.838484  0.029657     28\n",
       "2916693 -0.809611  0.191949     28\n",
       "2916694 -0.180464  3.515158     28\n",
       "2916695 -0.825928  0.099985     28\n",
       "2916696  3.020063 -0.731002     28"
      ]
     },
     "execution_count": 99,
     "metadata": {},
     "output_type": "execute_result"
    }
   ],
   "source": [
    "data.tail()"
   ]
  },
  {
   "cell_type": "code",
   "execution_count": 100,
   "id": "e0c7070a",
   "metadata": {},
   "outputs": [],
   "source": [
    "def fetch_predictions(data):\n",
    "    \n",
    "    predictions = list()\n",
    "        \n",
    "    for j in range(29):\n",
    "        \n",
    "        category_j_predictions = class_conditioned_likelihood(likelihood_params_dicts[j],data.iloc[:,0:2]) \n",
    "        \n",
    "        category_j_predictions = category_j_predictions.reshape(category_j_predictions.shape[0],1)\n",
    "            \n",
    "        predictions.append(category_j_predictions)\n",
    "            \n",
    "    predictions = np.concatenate(predictions)\n",
    "     \n",
    "    return np.argmax(predictions,axis=1)"
   ]
  },
  {
   "cell_type": "code",
   "execution_count": 101,
   "id": "1a6fff11",
   "metadata": {},
   "outputs": [
    {
     "ename": "LinAlgError",
     "evalue": "singular matrix",
     "output_type": "error",
     "traceback": [
      "\u001b[1;31m---------------------------------------------------------------------------\u001b[0m",
      "\u001b[1;31mLinAlgError\u001b[0m                               Traceback (most recent call last)",
      "Input \u001b[1;32mIn [101]\u001b[0m, in \u001b[0;36m<cell line: 1>\u001b[1;34m()\u001b[0m\n\u001b[1;32m----> 1\u001b[0m cv_predictions \u001b[38;5;241m=\u001b[39m \u001b[43mfetch_predictions\u001b[49m\u001b[43m(\u001b[49m\u001b[43mcv_data\u001b[49m\u001b[43m)\u001b[49m\n",
      "Input \u001b[1;32mIn [100]\u001b[0m, in \u001b[0;36mfetch_predictions\u001b[1;34m(data)\u001b[0m\n\u001b[0;32m      3\u001b[0m predictions \u001b[38;5;241m=\u001b[39m \u001b[38;5;28mlist\u001b[39m()\n\u001b[0;32m      5\u001b[0m \u001b[38;5;28;01mfor\u001b[39;00m j \u001b[38;5;129;01min\u001b[39;00m \u001b[38;5;28mrange\u001b[39m(\u001b[38;5;241m29\u001b[39m):\n\u001b[1;32m----> 7\u001b[0m     category_j_predictions \u001b[38;5;241m=\u001b[39m \u001b[43mclass_conditioned_likelihood\u001b[49m\u001b[43m(\u001b[49m\u001b[43mlikelihood_params_dicts\u001b[49m\u001b[43m[\u001b[49m\u001b[43mj\u001b[49m\u001b[43m]\u001b[49m\u001b[43m,\u001b[49m\u001b[43mdata\u001b[49m\u001b[38;5;241;43m.\u001b[39;49m\u001b[43miloc\u001b[49m\u001b[43m[\u001b[49m\u001b[43m:\u001b[49m\u001b[43m,\u001b[49m\u001b[38;5;241;43m0\u001b[39;49m\u001b[43m:\u001b[49m\u001b[38;5;241;43m2\u001b[39;49m\u001b[43m]\u001b[49m\u001b[43m)\u001b[49m \n\u001b[0;32m      9\u001b[0m     category_j_predictions \u001b[38;5;241m=\u001b[39m category_j_predictions\u001b[38;5;241m.\u001b[39mreshape(category_j_predictions\u001b[38;5;241m.\u001b[39mshape[\u001b[38;5;241m0\u001b[39m],\u001b[38;5;241m1\u001b[39m)\n\u001b[0;32m     11\u001b[0m     predictions\u001b[38;5;241m.\u001b[39mappend(category_j_predictions)\n",
      "Input \u001b[1;32mIn [96]\u001b[0m, in \u001b[0;36mclass_conditioned_likelihood\u001b[1;34m(params_dict, cv_data)\u001b[0m\n\u001b[0;32m      1\u001b[0m \u001b[38;5;28;01mdef\u001b[39;00m \u001b[38;5;21mclass_conditioned_likelihood\u001b[39m(params_dict, cv_data):\n\u001b[1;32m----> 3\u001b[0m     \u001b[38;5;28;01mreturn\u001b[39;00m \u001b[43ms\u001b[49m\u001b[38;5;241;43m.\u001b[39;49m\u001b[43mmultivariate_normal\u001b[49m\u001b[38;5;241;43m.\u001b[39;49m\u001b[43mpdf\u001b[49m\u001b[43m(\u001b[49m\u001b[43mcv_data\u001b[49m\u001b[43m,\u001b[49m\u001b[43mparams_dict\u001b[49m\u001b[43m[\u001b[49m\u001b[38;5;124;43m\"\u001b[39;49m\u001b[38;5;124;43mmean_vector\u001b[39;49m\u001b[38;5;124;43m\"\u001b[39;49m\u001b[43m]\u001b[49m\u001b[43m,\u001b[49m\u001b[43mparams_dict\u001b[49m\u001b[43m[\u001b[49m\u001b[38;5;124;43m\"\u001b[39;49m\u001b[38;5;124;43mcovariance_matrix\u001b[39;49m\u001b[38;5;124;43m\"\u001b[39;49m\u001b[43m]\u001b[49m\u001b[43m)\u001b[49m\n",
      "File \u001b[1;32mC:\\ProgramData\\Anaconda3\\lib\\site-packages\\scipy\\stats\\_multivariate.py:516\u001b[0m, in \u001b[0;36mmultivariate_normal_gen.pdf\u001b[1;34m(self, x, mean, cov, allow_singular)\u001b[0m\n\u001b[0;32m    514\u001b[0m dim, mean, cov \u001b[38;5;241m=\u001b[39m \u001b[38;5;28mself\u001b[39m\u001b[38;5;241m.\u001b[39m_process_parameters(\u001b[38;5;28;01mNone\u001b[39;00m, mean, cov)\n\u001b[0;32m    515\u001b[0m x \u001b[38;5;241m=\u001b[39m \u001b[38;5;28mself\u001b[39m\u001b[38;5;241m.\u001b[39m_process_quantiles(x, dim)\n\u001b[1;32m--> 516\u001b[0m psd \u001b[38;5;241m=\u001b[39m \u001b[43m_PSD\u001b[49m\u001b[43m(\u001b[49m\u001b[43mcov\u001b[49m\u001b[43m,\u001b[49m\u001b[43m \u001b[49m\u001b[43mallow_singular\u001b[49m\u001b[38;5;241;43m=\u001b[39;49m\u001b[43mallow_singular\u001b[49m\u001b[43m)\u001b[49m\n\u001b[0;32m    517\u001b[0m out \u001b[38;5;241m=\u001b[39m np\u001b[38;5;241m.\u001b[39mexp(\u001b[38;5;28mself\u001b[39m\u001b[38;5;241m.\u001b[39m_logpdf(x, mean, psd\u001b[38;5;241m.\u001b[39mU, psd\u001b[38;5;241m.\u001b[39mlog_pdet, psd\u001b[38;5;241m.\u001b[39mrank))\n\u001b[0;32m    518\u001b[0m \u001b[38;5;28;01mreturn\u001b[39;00m _squeeze_output(out)\n",
      "File \u001b[1;32mC:\\ProgramData\\Anaconda3\\lib\\site-packages\\scipy\\stats\\_multivariate.py:165\u001b[0m, in \u001b[0;36m_PSD.__init__\u001b[1;34m(self, M, cond, rcond, lower, check_finite, allow_singular)\u001b[0m\n\u001b[0;32m    163\u001b[0m d \u001b[38;5;241m=\u001b[39m s[s \u001b[38;5;241m>\u001b[39m eps]\n\u001b[0;32m    164\u001b[0m \u001b[38;5;28;01mif\u001b[39;00m \u001b[38;5;28mlen\u001b[39m(d) \u001b[38;5;241m<\u001b[39m \u001b[38;5;28mlen\u001b[39m(s) \u001b[38;5;129;01mand\u001b[39;00m \u001b[38;5;129;01mnot\u001b[39;00m allow_singular:\n\u001b[1;32m--> 165\u001b[0m     \u001b[38;5;28;01mraise\u001b[39;00m np\u001b[38;5;241m.\u001b[39mlinalg\u001b[38;5;241m.\u001b[39mLinAlgError(\u001b[38;5;124m'\u001b[39m\u001b[38;5;124msingular matrix\u001b[39m\u001b[38;5;124m'\u001b[39m)\n\u001b[0;32m    166\u001b[0m s_pinv \u001b[38;5;241m=\u001b[39m _pinv_1d(s, eps)\n\u001b[0;32m    167\u001b[0m U \u001b[38;5;241m=\u001b[39m np\u001b[38;5;241m.\u001b[39mmultiply(u, np\u001b[38;5;241m.\u001b[39msqrt(s_pinv))\n",
      "\u001b[1;31mLinAlgError\u001b[0m: singular matrix"
     ]
    }
   ],
   "source": [
    "cv_predictions = fetch_predictions(cv_data)"
   ]
  },
  {
   "cell_type": "code",
   "execution_count": 57,
   "id": "e133e5bd",
   "metadata": {},
   "outputs": [
    {
     "ename": "NameError",
     "evalue": "name 'cv_predictions' is not defined",
     "output_type": "error",
     "traceback": [
      "\u001b[1;31m---------------------------------------------------------------------------\u001b[0m",
      "\u001b[1;31mNameError\u001b[0m                                 Traceback (most recent call last)",
      "Input \u001b[1;32mIn [57]\u001b[0m, in \u001b[0;36m<cell line: 1>\u001b[1;34m()\u001b[0m\n\u001b[1;32m----> 1\u001b[0m \u001b[43mcv_predictions\u001b[49m\n",
      "\u001b[1;31mNameError\u001b[0m: name 'cv_predictions' is not defined"
     ]
    }
   ],
   "source": [
    "cv_predictions"
   ]
  },
  {
   "cell_type": "code",
   "execution_count": null,
   "id": "935ebb95",
   "metadata": {},
   "outputs": [],
   "source": [
    "cv_gt_lables = np.array(cv_data.iloc[:,8])"
   ]
  },
  {
   "cell_type": "code",
   "execution_count": null,
   "id": "7e531657",
   "metadata": {},
   "outputs": [],
   "source": [
    "cv_gt_lables"
   ]
  },
  {
   "cell_type": "code",
   "execution_count": null,
   "id": "d8165b25",
   "metadata": {},
   "outputs": [],
   "source": [
    "def fetch_performance_metrics(predictions,gt_labels):\n",
    "\n",
    "  accuracy = np.count_nonzero(predictions == gt_labels)/gt_labels.shape[0]\n",
    "\n",
    "  return {\"Accuracy\":accuracy}"
   ]
  },
  {
   "cell_type": "code",
   "execution_count": null,
   "id": "a3bedb83",
   "metadata": {},
   "outputs": [],
   "source": [
    "cv_performance_matrics = fetch_performance_metrics(cv_predictions,cv_gt_labels)"
   ]
  },
  {
   "cell_type": "code",
   "execution_count": null,
   "id": "eb85836f",
   "metadata": {},
   "outputs": [],
   "source": [
    "cv_performance_matrics"
   ]
  },
  {
   "cell_type": "code",
   "execution_count": null,
   "id": "ebdf0f88",
   "metadata": {},
   "outputs": [],
   "source": []
  }
 ],
 "metadata": {
  "kernelspec": {
   "display_name": "Python 3 (ipykernel)",
   "language": "python",
   "name": "python3"
  },
  "language_info": {
   "codemirror_mode": {
    "name": "ipython",
    "version": 3
   },
   "file_extension": ".py",
   "mimetype": "text/x-python",
   "name": "python",
   "nbconvert_exporter": "python",
   "pygments_lexer": "ipython3",
   "version": "3.9.12"
  }
 },
 "nbformat": 4,
 "nbformat_minor": 5
}
